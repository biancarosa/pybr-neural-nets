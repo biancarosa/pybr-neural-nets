{
 "cells": [
  {
   "cell_type": "code",
   "execution_count": 10,
   "metadata": {},
   "outputs": [],
   "source": [
    "from sklearn import datasets"
   ]
  },
  {
   "cell_type": "code",
   "execution_count": 11,
   "metadata": {},
   "outputs": [],
   "source": [
    "digits = datasets.load_digits()"
   ]
  },
  {
   "cell_type": "code",
   "execution_count": 4,
   "metadata": {},
   "outputs": [
    {
     "name": "stdout",
     "output_type": "stream",
     "text": [
      "dict_keys(['DESCR', 'target', 'data', 'target_names', 'images'])\n"
     ]
    }
   ],
   "source": [
    "print(digits.keys())"
   ]
  },
  {
   "cell_type": "code",
   "execution_count": 5,
   "metadata": {},
   "outputs": [
    {
     "name": "stdout",
     "output_type": "stream",
     "text": [
      "Optical Recognition of Handwritten Digits Data Set\n",
      "===================================================\n",
      "\n",
      "Notes\n",
      "-----\n",
      "Data Set Characteristics:\n",
      "    :Number of Instances: 5620\n",
      "    :Number of Attributes: 64\n",
      "    :Attribute Information: 8x8 image of integer pixels in the range 0..16.\n",
      "    :Missing Attribute Values: None\n",
      "    :Creator: E. Alpaydin (alpaydin '@' boun.edu.tr)\n",
      "    :Date: July; 1998\n",
      "\n",
      "This is a copy of the test set of the UCI ML hand-written digits datasets\n",
      "http://archive.ics.uci.edu/ml/datasets/Optical+Recognition+of+Handwritten+Digits\n",
      "\n",
      "The data set contains images of hand-written digits: 10 classes where\n",
      "each class refers to a digit.\n",
      "\n",
      "Preprocessing programs made available by NIST were used to extract\n",
      "normalized bitmaps of handwritten digits from a preprinted form. From a\n",
      "total of 43 people, 30 contributed to the training set and different 13\n",
      "to the test set. 32x32 bitmaps are divided into nonoverlapping blocks of\n",
      "4x4 and the number of on pixels are counted in each block. This generates\n",
      "an input matrix of 8x8 where each element is an integer in the range\n",
      "0..16. This reduces dimensionality and gives invariance to small\n",
      "distortions.\n",
      "\n",
      "For info on NIST preprocessing routines, see M. D. Garris, J. L. Blue, G.\n",
      "T. Candela, D. L. Dimmick, J. Geist, P. J. Grother, S. A. Janet, and C.\n",
      "L. Wilson, NIST Form-Based Handprint Recognition System, NISTIR 5469,\n",
      "1994.\n",
      "\n",
      "References\n",
      "----------\n",
      "  - C. Kaynak (1995) Methods of Combining Multiple Classifiers and Their\n",
      "    Applications to Handwritten Digit Recognition, MSc Thesis, Institute of\n",
      "    Graduate Studies in Science and Engineering, Bogazici University.\n",
      "  - E. Alpaydin, C. Kaynak (1998) Cascading Classifiers, Kybernetika.\n",
      "  - Ken Tang and Ponnuthurai N. Suganthan and Xi Yao and A. Kai Qin.\n",
      "    Linear dimensionalityreduction using relevance weighted LDA. School of\n",
      "    Electrical and Electronic Engineering Nanyang Technological University.\n",
      "    2005.\n",
      "  - Claudio Gentile. A New Approximate Maximal Margin Classification\n",
      "    Algorithm. NIPS. 2000.\n",
      "\n"
     ]
    }
   ],
   "source": [
    "print(digits['DESCR'])"
   ]
  },
  {
   "cell_type": "code",
   "execution_count": 6,
   "metadata": {},
   "outputs": [
    {
     "name": "stdout",
     "output_type": "stream",
     "text": [
      "[[  0.   0.   5. ...,   0.   0.   0.]\n",
      " [  0.   0.   0. ...,  10.   0.   0.]\n",
      " [  0.   0.   0. ...,  16.   9.   0.]\n",
      " ..., \n",
      " [  0.   0.   1. ...,   6.   0.   0.]\n",
      " [  0.   0.   2. ...,  12.   0.   0.]\n",
      " [  0.   0.  10. ...,  12.   1.   0.]]\n"
     ]
    }
   ],
   "source": [
    "print(digits['data'])"
   ]
  },
  {
   "cell_type": "code",
   "execution_count": 7,
   "metadata": {},
   "outputs": [
    {
     "name": "stdout",
     "output_type": "stream",
     "text": [
      "[0 1 2 3 4 5 6 7 8 9]\n",
      "[0 1 2 ..., 8 9 8]\n"
     ]
    }
   ],
   "source": [
    "print(digits['target_names'])\n",
    "print(digits['target'])"
   ]
  },
  {
   "cell_type": "code",
   "execution_count": 8,
   "metadata": {},
   "outputs": [
    {
     "name": "stdout",
     "output_type": "stream",
     "text": [
      "[[[  0.   0.   5. ...,   1.   0.   0.]\n",
      "  [  0.   0.  13. ...,  15.   5.   0.]\n",
      "  [  0.   3.  15. ...,  11.   8.   0.]\n",
      "  ..., \n",
      "  [  0.   4.  11. ...,  12.   7.   0.]\n",
      "  [  0.   2.  14. ...,  12.   0.   0.]\n",
      "  [  0.   0.   6. ...,   0.   0.   0.]]\n",
      "\n",
      " [[  0.   0.   0. ...,   5.   0.   0.]\n",
      "  [  0.   0.   0. ...,   9.   0.   0.]\n",
      "  [  0.   0.   3. ...,   6.   0.   0.]\n",
      "  ..., \n",
      "  [  0.   0.   1. ...,   6.   0.   0.]\n",
      "  [  0.   0.   1. ...,   6.   0.   0.]\n",
      "  [  0.   0.   0. ...,  10.   0.   0.]]\n",
      "\n",
      " [[  0.   0.   0. ...,  12.   0.   0.]\n",
      "  [  0.   0.   3. ...,  14.   0.   0.]\n",
      "  [  0.   0.   8. ...,  16.   0.   0.]\n",
      "  ..., \n",
      "  [  0.   9.  16. ...,   0.   0.   0.]\n",
      "  [  0.   3.  13. ...,  11.   5.   0.]\n",
      "  [  0.   0.   0. ...,  16.   9.   0.]]\n",
      "\n",
      " ..., \n",
      " [[  0.   0.   1. ...,   1.   0.   0.]\n",
      "  [  0.   0.  13. ...,   2.   1.   0.]\n",
      "  [  0.   0.  16. ...,  16.   5.   0.]\n",
      "  ..., \n",
      "  [  0.   0.  16. ...,  15.   0.   0.]\n",
      "  [  0.   0.  15. ...,  16.   0.   0.]\n",
      "  [  0.   0.   2. ...,   6.   0.   0.]]\n",
      "\n",
      " [[  0.   0.   2. ...,   0.   0.   0.]\n",
      "  [  0.   0.  14. ...,  15.   1.   0.]\n",
      "  [  0.   4.  16. ...,  16.   7.   0.]\n",
      "  ..., \n",
      "  [  0.   0.   0. ...,  16.   2.   0.]\n",
      "  [  0.   0.   4. ...,  16.   2.   0.]\n",
      "  [  0.   0.   5. ...,  12.   0.   0.]]\n",
      "\n",
      " [[  0.   0.  10. ...,   1.   0.   0.]\n",
      "  [  0.   2.  16. ...,   1.   0.   0.]\n",
      "  [  0.   0.  15. ...,  15.   0.   0.]\n",
      "  ..., \n",
      "  [  0.   4.  16. ...,  16.   6.   0.]\n",
      "  [  0.   8.  16. ...,  16.   8.   0.]\n",
      "  [  0.   1.   8. ...,  12.   1.   0.]]]\n"
     ]
    }
   ],
   "source": [
    "print(digits['images']) #wtf does this mean"
   ]
  },
  {
   "cell_type": "code",
   "execution_count": 10,
   "metadata": {},
   "outputs": [
    {
     "name": "stdout",
     "output_type": "stream",
     "text": [
      "[  0.   0.   0.  12.  13.   5.   0.   0.   0.   0.   0.  11.  16.   9.   0.\n",
      "   0.   0.   0.   3.  15.  16.   6.   0.   0.   0.   7.  15.  16.  16.   2.\n",
      "   0.   0.   0.   0.   1.  16.  16.   3.   0.   0.   0.   0.   1.  16.  16.\n",
      "   6.   0.   0.   0.   0.   1.  16.  16.   6.   0.   0.   0.   0.   0.  11.\n",
      "  16.  10.   0.   0.]\n",
      "1\n"
     ]
    }
   ],
   "source": [
    "print(digits['data'][1])\n",
    "print(digits['target'][1])"
   ]
  },
  {
   "cell_type": "code",
   "execution_count": 11,
   "metadata": {},
   "outputs": [
    {
     "name": "stdout",
     "output_type": "stream",
     "text": [
      "[  0.   0.   0.   4.  15.  12.   0.   0.   0.   0.   3.  16.  15.  14.   0.\n",
      "   0.   0.   0.   8.  13.   8.  16.   0.   0.   0.   0.   1.   6.  15.  11.\n",
      "   0.   0.   0.   1.   8.  13.  15.   1.   0.   0.   0.   9.  16.  16.   5.\n",
      "   0.   0.   0.   0.   3.  13.  16.  16.  11.   5.   0.   0.   0.   0.   3.\n",
      "  11.  16.   9.   0.]\n",
      "2\n"
     ]
    }
   ],
   "source": [
    "print(digits['data'][2])\n",
    "print(digits['target'][2])"
   ]
  },
  {
   "cell_type": "code",
   "execution_count": 12,
   "metadata": {
    "scrolled": true
   },
   "outputs": [
    {
     "name": "stdout",
     "output_type": "stream",
     "text": [
      "[  0.   0.   7.  15.  13.   1.   0.   0.   0.   8.  13.   6.  15.   4.   0.\n",
      "   0.   0.   2.   1.  13.  13.   0.   0.   0.   0.   0.   2.  15.  11.   1.\n",
      "   0.   0.   0.   0.   0.   1.  12.  12.   1.   0.   0.   0.   0.   0.   1.\n",
      "  10.   8.   0.   0.   0.   8.   4.   5.  14.   9.   0.   0.   0.   7.  13.\n",
      "  13.   9.   0.   0.]\n",
      "3\n"
     ]
    }
   ],
   "source": [
    "print(digits['data'][3])\n",
    "print(digits['target'][3])"
   ]
  },
  {
   "cell_type": "code",
   "execution_count": null,
   "metadata": {},
   "outputs": [],
   "source": [
    "len(digits['target'])"
   ]
  },
  {
   "cell_type": "code",
   "execution_count": 7,
   "metadata": {},
   "outputs": [],
   "source": [
    "import matplotlib.pyplot as plt"
   ]
  },
  {
   "cell_type": "code",
   "execution_count": 20,
   "metadata": {},
   "outputs": [
    {
     "data": {
      "image/png": "[encoded data removed]",
      "text/plain": [
       "<matplotlib.figure.Figure at 0x7f7cdca83898>"
      ]
     },
     "metadata": {},
     "output_type": "display_data"
    },
    {
     "data": {
      "image/png": "[encoded data removed]",
      "text/plain": [
       "<matplotlib.figure.Figure at 0x7f7cdc9ea048>"
      ]
     },
     "metadata": {},
     "output_type": "display_data"
    },
    {
     "data": {
      "image/png": "[encoded data removed]",
      "text/plain": [
       "<matplotlib.figure.Figure at 0x7f7cdc8d4ba8>"
      ]
     },
     "metadata": {},
     "output_type": "display_data"
    }
   ],
   "source": [
    "plt.figure(1, figsize=(3, 3))\n",
    "plt.imshow(digits.images[1], cmap=plt.cm.gray_r, interpolation='nearest')\n",
    "plt.show()\n",
    "plt.figure(1, figsize=(3, 3))\n",
    "plt.imshow(digits.images[2], cmap=plt.cm.gray_r, interpolation='nearest')\n",
    "plt.show()\n",
    "plt.figure(1, figsize=(3, 3))\n",
    "plt.imshow(digits.images[3], cmap=plt.cm.gray_r, interpolation='nearest')\n",
    "plt.show()"
   ]
  }
 ],
 "metadata": {
  "kernelspec": {
   "display_name": "Python 3",
   "language": "python",
   "name": "python3"
  },
  "language_info": {
   "codemirror_mode": {
    "name": "ipython",
    "version": 3
   },
   "file_extension": ".py",
   "mimetype": "text/x-python",
   "name": "python",
   "nbconvert_exporter": "python",
   "pygments_lexer": "ipython3",
   "version": "3.5.2"
  }
 },
 "nbformat": 4,
 "nbformat_minor": 2
}
